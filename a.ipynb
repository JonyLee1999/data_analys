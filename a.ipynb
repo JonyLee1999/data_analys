{
 "cells": [
  {
   "cell_type": "code",
   "execution_count": 201,
   "metadata": {},
   "outputs": [
    {
     "name": "stdout",
     "output_type": "stream",
     "text": [
      "[10 11 12 13 14 15 16 17 18 19]\n",
      "****************************************************************************************************\n",
      "[[10 12]\n",
      " [11 13]]\n"
     ]
    }
   ],
   "source": [
    "import numpy as np\n",
    "lst = np.arange(10,20)\n",
    "print(lst)\n",
    "\n",
    "print('*'*100)\n",
    "\n",
    "index= np.array([[0,2],[1,3]])\n",
    "print(lst[index])"
   ]
  },
  {
   "cell_type": "code",
   "execution_count": 202,
   "metadata": {},
   "outputs": [
    {
     "name": "stdout",
     "output_type": "stream",
     "text": [
      "[[[ 0  1  2  3]\n",
      "  [ 4  5  6  7]\n",
      "  [ 8  9 10 11]]\n",
      "\n",
      " [[12 13 14 15]\n",
      "  [16 17 18 19]\n",
      "  [20 21 22 23]]]\n"
     ]
    }
   ],
   "source": [
    "lst2=np.arange(24).reshape(2,3,4)\n",
    "print(lst2)\n"
   ]
  },
  {
   "cell_type": "code",
   "execution_count": 203,
   "metadata": {},
   "outputs": [
    {
     "name": "stdout",
     "output_type": "stream",
     "text": [
      "[[1 3]\n",
      " [2 4]]\n"
     ]
    }
   ],
   "source": [
    "a = np.array([[1, 2], [3, 4]])\n",
    "b = np.array([[5, 6]])\n",
    "print(a.transpose())"
   ]
  },
  {
   "cell_type": "code",
   "execution_count": 204,
   "metadata": {},
   "outputs": [
    {
     "name": "stdout",
     "output_type": "stream",
     "text": [
      "(3, 4)\n",
      "(2, 4)\n",
      "(2, 3)\n"
     ]
    }
   ],
   "source": [
    "arr_3d = np.arange(24).reshape(2, 3, 4)  # 形状 (2, 3, 4)\n",
    "print(arr_3d.sum(axis=0).shape)  # (3, 4)（压缩层）\n",
    "print(arr_3d.sum(axis=1).shape)  # (2, 4)（压缩行）\n",
    "print(arr_3d.sum(axis=2).shape)  # (2, 3)（压缩列）"
   ]
  },
  {
   "cell_type": "code",
   "execution_count": 205,
   "metadata": {},
   "outputs": [
    {
     "name": "stdout",
     "output_type": "stream",
     "text": [
      "    firstCategoryName secondCategoryName thirdCategoryName\n",
      "0                花卉园艺                礼品花              礼品鲜花\n",
      "1                  酒类                配制酒           鸡尾酒/预调酒\n",
      "2                  酒类                 啤酒                白啤\n",
      "3                  酒类                 啤酒           果味/无醇啤酒\n",
      "4                  酒类                 啤酒                黑啤\n",
      "..                ...                ...               ...\n",
      "128           饮料/营养冲调                 饮料         植物/复合蛋白饮料\n",
      "129           饮料/营养冲调                饮用水             包装饮用水\n",
      "130           饮料/营养冲调                饮用水               气泡水\n",
      "131           饮料/营养冲调                饮用水             天然矿泉水\n",
      "132           饮料/营养冲调                饮用水             天然苏打水\n",
      "\n",
      "[133 rows x 3 columns]\n"
     ]
    }
   ],
   "source": [
    "import pandas as pd\n",
    "data = pd.read_excel(f'F:\\桌面\\分级品类.xlsx')\n",
    "print(data) \n"
   ]
  },
  {
   "cell_type": "code",
   "execution_count": 206,
   "metadata": {},
   "outputs": [
    {
     "name": "stdout",
     "output_type": "stream",
     "text": [
      "        一级品类 二级品类       三级品类\n",
      "0       花卉园艺  礼品花       礼品鲜花\n",
      "1         酒类  配制酒    鸡尾酒/预调酒\n",
      "2         酒类   啤酒         白啤\n",
      "3         酒类   啤酒    果味/无醇啤酒\n",
      "4         酒类   啤酒         黑啤\n",
      "..       ...  ...        ...\n",
      "128  饮料/营养冲调   饮料  植物/复合蛋白饮料\n",
      "129  饮料/营养冲调  饮用水      包装饮用水\n",
      "130  饮料/营养冲调  饮用水        气泡水\n",
      "131  饮料/营养冲调  饮用水      天然矿泉水\n",
      "132  饮料/营养冲调  饮用水      天然苏打水\n",
      "\n",
      "[133 rows x 3 columns]\n"
     ]
    }
   ],
   "source": [
    "# 修改列明\n",
    "new_columns_name = ['一级品类','二级品类','三级品类']\n",
    "data = pd.read_excel(f'F:\\桌面\\分级品类.xlsx',header=0,names=new_columns_name)\n",
    "\n",
    "print(data)\n"
   ]
  },
  {
   "cell_type": "code",
   "execution_count": 207,
   "metadata": {},
   "outputs": [
    {
     "name": "stdout",
     "output_type": "stream",
     "text": [
      "   一级品类      二级品类      三级品类\n",
      "1    酒类       配制酒   鸡尾酒/预调酒\n",
      "2    酒类        啤酒        白啤\n",
      "3    酒类        啤酒   果味/无醇啤酒\n",
      "4    酒类        啤酒        黑啤\n",
      "5    酒类        啤酒        黄啤\n",
      "6    酒类        啤酒      精酿啤酒\n",
      "7    酒类        啤酒      原浆啤酒\n",
      "8    酒类      其他酒类        黄酒\n",
      "9    酒类      其他酒类     米酒/醪糟\n",
      "10   酒类  散装/组合装酒类  鲜打/组合装啤酒\n"
     ]
    }
   ],
   "source": [
    "filter=data['一级品类'].str.contains('酒')\n",
    "print(data[filter])"
   ]
  },
  {
   "cell_type": "code",
   "execution_count": 208,
   "metadata": {},
   "outputs": [
    {
     "data": {
      "text/html": [
       "<div>\n",
       "<style scoped>\n",
       "    .dataframe tbody tr th:only-of-type {\n",
       "        vertical-align: middle;\n",
       "    }\n",
       "\n",
       "    .dataframe tbody tr th {\n",
       "        vertical-align: top;\n",
       "    }\n",
       "\n",
       "    .dataframe thead th {\n",
       "        text-align: right;\n",
       "    }\n",
       "</style>\n",
       "<table border=\"1\" class=\"dataframe\">\n",
       "  <thead>\n",
       "    <tr style=\"text-align: right;\">\n",
       "      <th></th>\n",
       "      <th>A</th>\n",
       "      <th>B</th>\n",
       "      <th>C</th>\n",
       "      <th>D</th>\n",
       "    </tr>\n",
       "  </thead>\n",
       "  <tbody>\n",
       "    <tr>\n",
       "      <th>a</th>\n",
       "      <td>-12</td>\n",
       "      <td>-11</td>\n",
       "      <td>-10</td>\n",
       "      <td>-9</td>\n",
       "    </tr>\n",
       "    <tr>\n",
       "      <th>b</th>\n",
       "      <td>-8</td>\n",
       "      <td>-7</td>\n",
       "      <td>-6</td>\n",
       "      <td>-5</td>\n",
       "    </tr>\n",
       "    <tr>\n",
       "      <th>c</th>\n",
       "      <td>-4</td>\n",
       "      <td>-3</td>\n",
       "      <td>-2</td>\n",
       "      <td>-1</td>\n",
       "    </tr>\n",
       "    <tr>\n",
       "      <th>d</th>\n",
       "      <td>0</td>\n",
       "      <td>1</td>\n",
       "      <td>2</td>\n",
       "      <td>3</td>\n",
       "    </tr>\n",
       "    <tr>\n",
       "      <th>e</th>\n",
       "      <td>4</td>\n",
       "      <td>5</td>\n",
       "      <td>6</td>\n",
       "      <td>7</td>\n",
       "    </tr>\n",
       "    <tr>\n",
       "      <th>f</th>\n",
       "      <td>8</td>\n",
       "      <td>9</td>\n",
       "      <td>10</td>\n",
       "      <td>11</td>\n",
       "    </tr>\n",
       "  </tbody>\n",
       "</table>\n",
       "</div>"
      ],
      "text/plain": [
       "    A   B   C   D\n",
       "a -12 -11 -10  -9\n",
       "b  -8  -7  -6  -5\n",
       "c  -4  -3  -2  -1\n",
       "d   0   1   2   3\n",
       "e   4   5   6   7\n",
       "f   8   9  10  11"
      ]
     },
     "execution_count": 208,
     "metadata": {},
     "output_type": "execute_result"
    }
   ],
   "source": [
    "# 选取数据\n",
    "import pandas as pd\n",
    "import numpy as np\n",
    "data = np.arange(-12,12).reshape((6,4))\n",
    "df = pd.DataFrame(data,index=list('abcdef'),columns=list('ABCD'))\n",
    "df\n"
   ]
  },
  {
   "cell_type": "code",
   "execution_count": 209,
   "metadata": {},
   "outputs": [
    {
     "name": "stdout",
     "output_type": "stream",
     "text": [
      "numpy:\n",
      " [[-10 -11]\n",
      " [ -6  -7]\n",
      " [ -2  -3]\n",
      " [  2   1]\n",
      " [  6   5]\n",
      " [ 10   9]]\n",
      "\n",
      "df:\n",
      "     A   C\n",
      "a -12 -10\n",
      "b  -8  -6\n",
      "c  -4  -2\n",
      "d   0   2\n",
      "e   4   6\n",
      "f   8  10\n",
      "[[-3]]\n",
      "\n",
      "    A   B   C\n",
      "a -12 -11 -10\n",
      "b  -8  -7  -6\n",
      "c  -4  -3  -2\n"
     ]
    }
   ],
   "source": [
    "print('numpy:\\n',data[:,[2,1]])\n",
    "\n",
    "print('\\ndf:\\n',df[['A','C']])\n",
    "\n",
    "print(data[2:3,1:2])\n",
    "\n",
    "print(end='\\n')\n",
    "\n",
    "print(df.loc[\"a\":\"c\",\"A\":\"C\"])"
   ]
  },
  {
   "cell_type": "code",
   "execution_count": 210,
   "metadata": {},
   "outputs": [
    {
     "name": "stdout",
     "output_type": "stream",
     "text": [
      "df2:\n",
      "    B\n",
      "c -3\n"
     ]
    }
   ],
   "source": [
    "# iloc\n",
    "print('df2:\\n',df.iloc[2:3,1:2])"
   ]
  },
  {
   "cell_type": "code",
   "execution_count": 211,
   "metadata": {},
   "outputs": [
    {
     "name": "stdout",
     "output_type": "stream",
     "text": [
      "    A   B   C   D\n",
      "a -12 -11 -10  -9\n",
      "b  -8  -7  -6  -5\n",
      "c  -4  -3  -2  -1\n",
      "d   0   1   2   3\n",
      "e   4   5   6   7\n",
      "f   8   9  10  11\n",
      "\n",
      " [0 2]\n",
      "\n",
      "     A   C\n",
      "a -12 -10\n",
      "b  -8  -6\n",
      "\n",
      " A   -12\n",
      "B   -11\n",
      "C   -10\n",
      "D    -9\n",
      "Name: a, dtype: int64\n",
      "A    False\n",
      "B    False\n",
      "C    False\n",
      "D     True\n",
      "Name: a, dtype: bool\n",
      "\n",
      "    D\n",
      "a -9\n",
      "c -1\n",
      "\n",
      "    D\n",
      "a -9\n",
      "b -5\n",
      "c -1\n",
      "d  3\n"
     ]
    }
   ],
   "source": [
    "# iloc & loc\n",
    "print(df)\n",
    "\n",
    "# row_labels = df.index[2:4]\n",
    "# data = df.loc[row_labels,[\"A\",\"C\"]]\n",
    "# print(data)\n",
    "\n",
    "# index_lebels = df.columns[:3]\n",
    "# data1 = df.loc[row_labels,index_lebels]\n",
    "# print(data1)\n",
    "\n",
    "col_index = df.columns.get_indexer([\"A\",\"C\"])\n",
    "print(\"\\n\",col_index)\n",
    "\n",
    "print(\"\\n\",df.iloc[:2,col_index])\n",
    "\n",
    "print(\"\\n\",df.iloc[0])\n",
    "\n",
    "print(df.iloc[0]>-10)\n",
    "print(\"\\n\",df.loc[[\"a\",\"c\"],df.iloc[0]>-10])\n",
    "print(\"\\n\",df.loc[\"a\":\"d\",df.iloc[0]>-10])\n",
    "\n"
   ]
  },
  {
   "cell_type": "code",
   "execution_count": 212,
   "metadata": {},
   "outputs": [
    {
     "name": "stdout",
     "output_type": "stream",
     "text": [
      "    A   B   C   D\n",
      "a -12 -11 -10  -9\n",
      "b  -8  -7  -6  -5\n",
      "c  -4  -3  -2  -1\n",
      "d   0   1   2   3\n",
      "e   4   5   6   7\n",
      "f   8   9  10  11\n",
      "    C   D\n",
      "a -10  -9\n",
      "b  -6  -5\n",
      "c  -2  -1\n",
      "d   2   3\n",
      "e   6   7\n",
      "f  10  11\n",
      "A    False\n",
      "B    False\n",
      "C    False\n",
      "D     True\n",
      "Name: a, dtype: bool\n",
      "   A  B  C  D\n",
      "b -8 -7 -6 -5\n",
      "c -4 -3 -2 -1\n",
      "    A   B\n",
      "a -12 -11\n",
      "b  -8  -7\n",
      "c  -4  -3\n",
      "    A   B   C\n",
      "a -12 -11 -10\n",
      "b  -8  -7  -6\n",
      "    A  D\n",
      "a -12 -9\n",
      "b  -8 -5\n"
     ]
    }
   ],
   "source": [
    "print(df)\n",
    "\n",
    "print(df.loc[:,(df.iloc[0]>-10) | (df.iloc[0]>-11)])\n",
    "\n",
    "print(df.iloc[0]>-10)\n",
    "\n",
    "print(df[1:3])\n",
    "\n",
    "print(df.loc[\"a\":\"c\",\"A\":\"B\"])\n",
    "\n",
    "print(df.iloc[0:2,0:3])\n",
    "print(df.iloc[0:2,[0,3]])\n",
    "\n"
   ]
  },
  {
   "cell_type": "code",
   "execution_count": 213,
   "metadata": {},
   "outputs": [
    {
     "name": "stdout",
     "output_type": "stream",
     "text": [
      "c0        0.69\n",
      "c1       1.355\n",
      "c2    0.186667\n",
      "dtype: object\n"
     ]
    }
   ],
   "source": [
    "# 数据统计\n",
    "\n",
    "import pandas as pd\n",
    "import numpy as np\n",
    "\n",
    "data = np.array([\n",
    "    [1.39, 1.77, None],\n",
    "    [0.34, 1.91, -0.05],\n",
    "    [0.34, 1.47, 1.22],\n",
    "    [None, 0.27, -0.61]\n",
    "])\n",
    "\n",
    "df= pd.DataFrame(data,index=[\"r0\",\"r1\",\"r2\",\"r3\"],columns=[\"c0\",\"c1\",\"c2\"])\n",
    "df\n",
    "\n",
    "#df.describe()\n",
    "\n",
    "print(df.mean())\n",
    "#print(df.mean(axis=0, skipna=False))\n",
    "\n"
   ]
  },
  {
   "cell_type": "code",
   "execution_count": 214,
   "metadata": {},
   "outputs": [
    {
     "data": {
      "text/plain": [
       "<Axes: xlabel='x', ylabel='y'>"
      ]
     },
     "execution_count": 214,
     "metadata": {},
     "output_type": "execute_result"
    },
    {
     "data": {
      "image/png": "[encoded data removed]",
      "text/plain": [
       "<Figure size 640x480 with 2 Axes>"
      ]
     },
     "metadata": {},
     "output_type": "display_data"
    }
   ],
   "source": [
    "# 散点图\n",
    "import pandas as pd\n",
    "import numpy as np\n",
    "\n",
    "n = 1024\n",
    "df = pd.DataFrame({\n",
    "    \"x\":np.random.normal(loc=0,scale=1,size=n),\n",
    "    \"y\":np.random.normal(loc=0)\n",
    "})\n",
    "color = np.arctan2(df[\"y\"],df[\"x\"])\n",
    "df.plot.scatter(x='x',y='y',c=color,s=60,alpha=.5,cmap='rainbow')"
   ]
  },
  {
   "cell_type": "code",
   "execution_count": 215,
   "metadata": {},
   "outputs": [
    {
     "name": "stdout",
     "output_type": "stream",
     "text": [
      "   A  B\n",
      "0  0  1\n",
      "1  2  3\n",
      "2  4  5\n",
      "3  6  7\n",
      "4  8  9\n"
     ]
    },
    {
     "data": {
      "text/html": [
       "<div>\n",
       "<style scoped>\n",
       "    .dataframe tbody tr th:only-of-type {\n",
       "        vertical-align: middle;\n",
       "    }\n",
       "\n",
       "    .dataframe tbody tr th {\n",
       "        vertical-align: top;\n",
       "    }\n",
       "\n",
       "    .dataframe thead th {\n",
       "        text-align: right;\n",
       "    }\n",
       "</style>\n",
       "<table border=\"1\" class=\"dataframe\">\n",
       "  <thead>\n",
       "    <tr style=\"text-align: right;\">\n",
       "      <th></th>\n",
       "      <th>A</th>\n",
       "      <th>B</th>\n",
       "    </tr>\n",
       "  </thead>\n",
       "  <tbody>\n",
       "    <tr>\n",
       "      <th>0</th>\n",
       "      <td>0</td>\n",
       "      <td>1</td>\n",
       "    </tr>\n",
       "    <tr>\n",
       "      <th>1</th>\n",
       "      <td>2</td>\n",
       "      <td>3</td>\n",
       "    </tr>\n",
       "    <tr>\n",
       "      <th>2</th>\n",
       "      <td>0</td>\n",
       "      <td>3</td>\n",
       "    </tr>\n",
       "    <tr>\n",
       "      <th>3</th>\n",
       "      <td>6</td>\n",
       "      <td>7</td>\n",
       "    </tr>\n",
       "    <tr>\n",
       "      <th>4</th>\n",
       "      <td>8</td>\n",
       "      <td>9</td>\n",
       "    </tr>\n",
       "  </tbody>\n",
       "</table>\n",
       "</div>"
      ],
      "text/plain": [
       "   A  B\n",
       "0  0  1\n",
       "1  2  3\n",
       "2  0  3\n",
       "3  6  7\n",
       "4  8  9"
      ]
     },
     "execution_count": 215,
     "metadata": {},
     "output_type": "execute_result"
    }
   ],
   "source": [
    "# apply\n",
    "\n",
    "import pandas as pd\n",
    "import numpy as np\n",
    "df = pd.DataFrame(np.arange(10).reshape((5,2)),columns=[\"A\",\"B\"])\n",
    "print(df)\n",
    "# def fuc(x):\n",
    "#     return x[0]*3,x[1]*-1\n",
    "# # df.apply(fuc,axis=1,result_type=\"expand\")\n",
    "\n",
    "# df.apply(fuc,axis=1,result_type=\"broadcast\")\n",
    "\n",
    "\n",
    "# def fuc1(data):\n",
    "#     return data[\"A\"]*10\n",
    "\n",
    "# df[\"A\"]=df.apply(fuc1,axis=1)\n",
    "# df\n",
    "\n",
    "def fuc(x):\n",
    "    return x[0]*3\n",
    "\n",
    "df.iloc[2:3]=df.apply(fuc,axis=0)\n",
    "df\n",
    "\n",
    "    "
   ]
  },
  {
   "cell_type": "code",
   "execution_count": 216,
   "metadata": {},
   "outputs": [
    {
     "name": "stdout",
     "output_type": "stream",
     "text": [
      "A,B,C,AABA,BACA,CABA,DOG,CAT\n",
      "0       A\n",
      "1       B\n",
      "2       C\n",
      "3    AABA\n",
      "4    BACA\n",
      "5    CABA\n",
      "6     DOG\n",
      "7     CAT\n",
      "dtype: string\n"
     ]
    }
   ],
   "source": [
    "import pandas as pd\n",
    "\n",
    "py_s = \"A,B,C,Aaba,Baca,CABA,dog,cat\"\n",
    "pd_s = pd.Series(\n",
    "    [\"A\", \"B\", \"C\", \"Aaba\", \"Baca\", \"CABA\", \"dog\", \"cat\"],\n",
    "    dtype=\"string\")\n",
    "\n",
    "print(py_s.upper())\n",
    "print(pd_s.str.upper())\n"
   ]
  },
  {
   "cell_type": "code",
   "execution_count": 217,
   "metadata": {},
   "outputs": [
    {
     "name": "stdout",
     "output_type": "stream",
     "text": [
      "0     jack\n",
      "1     jill\n",
      "2    jesse\n",
      "3    frank\n",
      "dtype: string\n",
      "['jack', 'jill', 'jesse', 'frank']\n"
     ]
    }
   ],
   "source": [
    "py_s = [\"   jack\", \"jill \", \"    jesse    \", \"frank\"]\n",
    "pd_s = pd.Series(py_s, dtype=\"string\")\n",
    "\n",
    "print(pd_s.str.strip())\n",
    "\n",
    "print([x.strip() for x in py_s])"
   ]
  },
  {
   "cell_type": "markdown",
   "metadata": {},
   "source": [
    "正则表达式\n"
   ]
  },
  {
   "cell_type": "code",
   "execution_count": 218,
   "metadata": {},
   "outputs": [
    {
     "name": "stdout",
     "output_type": "stream",
     "text": [
      "<re.Match object; span=(2, 7), match='found'>\n",
      "None\n"
     ]
    }
   ],
   "source": [
    "# 正则表达式\n",
    "\n",
    "import re\n",
    "\n",
    "print(re.search(r\"f(ou|i)nd\",\"i found you\"))\n",
    "\n",
    "print(re.search(r\"f[ouni]nd\",\"i found you\"))"
   ]
  },
  {
   "cell_type": "code",
   "execution_count": 219,
   "metadata": {},
   "outputs": [
    {
     "name": "stdout",
     "output_type": "stream",
     "text": [
      "['10', '20', '30']\n",
      "10\n"
     ]
    }
   ],
   "source": [
    "import re\n",
    "\n",
    "text = \"10 apples, 20 bananas, 30 cherries\"\n",
    "\n",
    "print(re.findall(r\"\\d+\",text))\n",
    "\n",
    "match = re.search(r\"\\d+\",text)\n",
    "print(match.group() if match else None)"
   ]
  },
  {
   "cell_type": "code",
   "execution_count": 236,
   "metadata": {},
   "outputs": [
    {
     "name": "stdout",
     "output_type": "stream",
     "text": [
      "[('Alice', '30'), ('Bob', '25')]\n",
      "('Alice', '30')\n"
     ]
    }
   ],
   "source": [
    "import re\n",
    "text = \"name: Alice, age: 30; name: Bob, age: 25\"\n",
    "\n",
    "print(re.findall(r\"name: (\\w+), age: (\\d+)\", text))\n",
    "\n",
    "\n",
    "match= re.search(r\"name: (\\w+), age: (\\d+)\",text)\n",
    "\n",
    "print(match.groups() if match else None)"
   ]
  },
  {
   "cell_type": "code",
   "execution_count": 225,
   "metadata": {},
   "outputs": [
    {
     "name": "stdout",
     "output_type": "stream",
     "text": [
      "[('Alice', '30'), ('Bob', '25')]\n",
      "('Alice', '30')\n"
     ]
    }
   ],
   "source": [
    "text = \"name: Alice, age: 30; name: Bob, age: 25\"\n",
    "\n",
    "# findall 返回组内容的元组列表\n",
    "print(re.findall(r\"name: (\\w+), age: (\\d+)\", text))  # 输出: [('Alice', '30'), ('Bob', '25')]\n",
    "\n",
    "# search 返回第一个匹配的 Match 对象\n",
    "match = re.search(r\"name: (\\w+), age: (\\d+)\", text)\n",
    "if match:\n",
    "    print(match.groups())  # 输出: ('Alice', '30')"
   ]
  },
  {
   "cell_type": "code",
   "execution_count": 1,
   "metadata": {},
   "outputs": [
    {
     "name": "stdout",
     "output_type": "stream",
     "text": [
      "     0    1    2\n",
      "0  NaN  NaN  NaN\n",
      "1  NaN  NaN  NaN\n",
      "2  NaN  NaN  NaN\n"
     ]
    }
   ],
   "source": [
    "import pandas as pd\n",
    "\n",
    "data = pd.Series(['John Doe (30)', 'Alice Smith (25)', 'Bob Brown (40)'])\n",
    "result = data.str.extract(r'(\\w+) (\\w+) $(\\d+)$')  # 3个捕获组：名、姓、年龄\n",
    "print(result)"
   ]
  },
  {
   "cell_type": "code",
   "execution_count": 10,
   "metadata": {},
   "outputs": [
    {
     "name": "stdout",
     "output_type": "stream",
     "text": [
      "             A    B    C    D\n",
      "class1 0    A0   B0   C0   D0\n",
      "       1    A1   B1   C1   D1\n",
      "       2    A2   B2   C2   D2\n",
      "       3    A3   B3   C3   D3\n",
      "class2 4    A4   B4   C4   D4\n",
      "       5    A5   B5   C5   D5\n",
      "       6    A6   B6   C6   D6\n",
      "       7    A7   B7   C7   D7\n",
      "class3 8    A8   B8   C8   D8\n",
      "       9    A9   B9   C9   D9\n",
      "       10  A10  B10  C10  D10\n",
      "       11  A11  B11  C11  D11\n",
      "    A   B   C   D\n",
      "0  A0  B0  C0  D0\n",
      "1  A1  B1  C1  D1\n",
      "2  A2  B2  C2  D2\n",
      "3  A3  B3  C3  D3\n"
     ]
    },
    {
     "data": {
      "application/vnd.microsoft.datawrangler.viewer.v0+json": {
       "columns": [
        {
         "name": "index",
         "rawType": "int64",
         "type": "integer"
        },
        {
         "name": "A",
         "rawType": "object",
         "type": "unknown"
        },
        {
         "name": "B",
         "rawType": "object",
         "type": "string"
        },
        {
         "name": "C",
         "rawType": "object",
         "type": "unknown"
        },
        {
         "name": "D",
         "rawType": "object",
         "type": "string"
        },
        {
         "name": "F",
         "rawType": "object",
         "type": "unknown"
        }
       ],
       "conversionMethod": "pd.DataFrame",
       "ref": "79139da0-173a-435a-bcbf-b6b9b80ea84f",
       "rows": [
        [
         "0",
         "A0",
         "B0",
         "C0",
         "D0",
         null
        ],
        [
         "1",
         "A1",
         "B1",
         "C1",
         "D1",
         null
        ],
        [
         "2",
         "A2",
         "B2",
         "C2",
         "D2",
         null
        ],
        [
         "3",
         "A3",
         "B3",
         "C3",
         "D3",
         null
        ],
        [
         "4",
         null,
         "B2",
         null,
         "D2",
         "F2"
        ],
        [
         "5",
         null,
         "B3",
         null,
         "D3",
         "F3"
        ],
        [
         "6",
         null,
         "B6",
         null,
         "D6",
         "F6"
        ],
        [
         "7",
         null,
         "B7",
         null,
         "D7",
         "F7"
        ]
       ],
       "shape": {
        "columns": 5,
        "rows": 8
       }
      },
      "text/html": [
       "<div>\n",
       "<style scoped>\n",
       "    .dataframe tbody tr th:only-of-type {\n",
       "        vertical-align: middle;\n",
       "    }\n",
       "\n",
       "    .dataframe tbody tr th {\n",
       "        vertical-align: top;\n",
       "    }\n",
       "\n",
       "    .dataframe thead th {\n",
       "        text-align: right;\n",
       "    }\n",
       "</style>\n",
       "<table border=\"1\" class=\"dataframe\">\n",
       "  <thead>\n",
       "    <tr style=\"text-align: right;\">\n",
       "      <th></th>\n",
       "      <th>A</th>\n",
       "      <th>B</th>\n",
       "      <th>C</th>\n",
       "      <th>D</th>\n",
       "      <th>F</th>\n",
       "    </tr>\n",
       "  </thead>\n",
       "  <tbody>\n",
       "    <tr>\n",
       "      <th>0</th>\n",
       "      <td>A0</td>\n",
       "      <td>B0</td>\n",
       "      <td>C0</td>\n",
       "      <td>D0</td>\n",
       "      <td>NaN</td>\n",
       "    </tr>\n",
       "    <tr>\n",
       "      <th>1</th>\n",
       "      <td>A1</td>\n",
       "      <td>B1</td>\n",
       "      <td>C1</td>\n",
       "      <td>D1</td>\n",
       "      <td>NaN</td>\n",
       "    </tr>\n",
       "    <tr>\n",
       "      <th>2</th>\n",
       "      <td>A2</td>\n",
       "      <td>B2</td>\n",
       "      <td>C2</td>\n",
       "      <td>D2</td>\n",
       "      <td>NaN</td>\n",
       "    </tr>\n",
       "    <tr>\n",
       "      <th>3</th>\n",
       "      <td>A3</td>\n",
       "      <td>B3</td>\n",
       "      <td>C3</td>\n",
       "      <td>D3</td>\n",
       "      <td>NaN</td>\n",
       "    </tr>\n",
       "    <tr>\n",
       "      <th>4</th>\n",
       "      <td>NaN</td>\n",
       "      <td>B2</td>\n",
       "      <td>NaN</td>\n",
       "      <td>D2</td>\n",
       "      <td>F2</td>\n",
       "    </tr>\n",
       "    <tr>\n",
       "      <th>5</th>\n",
       "      <td>NaN</td>\n",
       "      <td>B3</td>\n",
       "      <td>NaN</td>\n",
       "      <td>D3</td>\n",
       "      <td>F3</td>\n",
       "    </tr>\n",
       "    <tr>\n",
       "      <th>6</th>\n",
       "      <td>NaN</td>\n",
       "      <td>B6</td>\n",
       "      <td>NaN</td>\n",
       "      <td>D6</td>\n",
       "      <td>F6</td>\n",
       "    </tr>\n",
       "    <tr>\n",
       "      <th>7</th>\n",
       "      <td>NaN</td>\n",
       "      <td>B7</td>\n",
       "      <td>NaN</td>\n",
       "      <td>D7</td>\n",
       "      <td>F7</td>\n",
       "    </tr>\n",
       "  </tbody>\n",
       "</table>\n",
       "</div>"
      ],
      "text/plain": [
       "     A   B    C   D    F\n",
       "0   A0  B0   C0  D0  NaN\n",
       "1   A1  B1   C1  D1  NaN\n",
       "2   A2  B2   C2  D2  NaN\n",
       "3   A3  B3   C3  D3  NaN\n",
       "4  NaN  B2  NaN  D2   F2\n",
       "5  NaN  B3  NaN  D3   F3\n",
       "6  NaN  B6  NaN  D6   F6\n",
       "7  NaN  B7  NaN  D7   F7"
      ]
     },
     "execution_count": 10,
     "metadata": {},
     "output_type": "execute_result"
    }
   ],
   "source": [
    "df1 = pd.DataFrame({\n",
    "    \"A\": [\"A0\", \"A1\", \"A2\", \"A3\"],\n",
    "    \"B\": [\"B0\", \"B1\", \"B2\", \"B3\"],\n",
    "    \"C\": [\"C0\", \"C1\", \"C2\", \"C3\"],\n",
    "    \"D\": [\"D0\", \"D1\", \"D2\", \"D3\"],\n",
    "}, index=[0, 1, 2, 3],)\n",
    "\n",
    "\n",
    "df2 = pd.DataFrame({\n",
    "    \"A\": [\"A4\", \"A5\", \"A6\", \"A7\"],\n",
    "    \"B\": [\"B4\", \"B5\", \"B6\", \"B7\"],\n",
    "    \"C\": [\"C4\", \"C5\", \"C6\", \"C7\"],\n",
    "    \"D\": [\"D4\", \"D5\", \"D6\", \"D7\"],\n",
    "}, index=[4, 5, 6, 7],)\n",
    "\n",
    "\n",
    "df3 = pd.DataFrame({\n",
    "    \"A\": [\"A8\", \"A9\", \"A10\", \"A11\"],\n",
    "    \"B\": [\"B8\", \"B9\", \"B10\", \"B11\"],\n",
    "    \"C\": [\"C8\", \"C9\", \"C10\", \"C11\"],\n",
    "    \"D\": [\"D8\", \"D9\", \"D10\", \"D11\"],\n",
    "}, index=[8, 9, 10, 11],)\n",
    "\n",
    "pd.concat([df1,df2,df3])\n",
    "\n",
    "all_classes = pd.concat([df1,df2,df3],keys=[\"class1\",\"class2\",\"class3\"])\n",
    "print(all_classes)\n",
    "print(all_classes.loc[\"class1\"])\n",
    "\n",
    "\n",
    "df4 = pd.DataFrame({\n",
    "    \"B\": [\"B2\", \"B3\", \"B6\", \"B7\"],\n",
    "    \"D\": [\"D2\", \"D3\", \"D6\", \"D7\"],\n",
    "    \"F\": [\"F2\", \"F3\", \"F6\", \"F7\"],\n",
    "}, index=[2, 3, 6, 7],)\n",
    "\n",
    "pd.concat([df1, df4],  join=\"outer\", ignore_index=True)\n"
   ]
  },
  {
   "cell_type": "code",
   "execution_count": 13,
   "metadata": {},
   "outputs": [
    {
     "data": {
      "application/vnd.microsoft.datawrangler.viewer.v0+json": {
       "columns": [
        {
         "name": "index",
         "rawType": "int64",
         "type": "integer"
        },
        {
         "name": "A",
         "rawType": "object",
         "type": "string"
        },
        {
         "name": "B",
         "rawType": "object",
         "type": "string"
        },
        {
         "name": "C",
         "rawType": "object",
         "type": "string"
        },
        {
         "name": "D",
         "rawType": "object",
         "type": "string"
        },
        {
         "name": "X",
         "rawType": "object",
         "type": "string"
        }
       ],
       "conversionMethod": "pd.DataFrame",
       "ref": "e88e00f7-e287-4365-9af4-25b3d5964722",
       "rows": [
        [
         "0",
         "A0",
         "B0",
         "C0",
         "D0",
         "X0"
        ],
        [
         "1",
         "A1",
         "B1",
         "C1",
         "D1",
         "X1"
        ],
        [
         "2",
         "A2",
         "B2",
         "C2",
         "D2",
         "X2"
        ],
        [
         "3",
         "A3",
         "B3",
         "C3",
         "D3",
         "X3"
        ]
       ],
       "shape": {
        "columns": 5,
        "rows": 4
       }
      },
      "text/html": [
       "<div>\n",
       "<style scoped>\n",
       "    .dataframe tbody tr th:only-of-type {\n",
       "        vertical-align: middle;\n",
       "    }\n",
       "\n",
       "    .dataframe tbody tr th {\n",
       "        vertical-align: top;\n",
       "    }\n",
       "\n",
       "    .dataframe thead th {\n",
       "        text-align: right;\n",
       "    }\n",
       "</style>\n",
       "<table border=\"1\" class=\"dataframe\">\n",
       "  <thead>\n",
       "    <tr style=\"text-align: right;\">\n",
       "      <th></th>\n",
       "      <th>A</th>\n",
       "      <th>B</th>\n",
       "      <th>C</th>\n",
       "      <th>D</th>\n",
       "      <th>X</th>\n",
       "    </tr>\n",
       "  </thead>\n",
       "  <tbody>\n",
       "    <tr>\n",
       "      <th>0</th>\n",
       "      <td>A0</td>\n",
       "      <td>B0</td>\n",
       "      <td>C0</td>\n",
       "      <td>D0</td>\n",
       "      <td>X0</td>\n",
       "    </tr>\n",
       "    <tr>\n",
       "      <th>1</th>\n",
       "      <td>A1</td>\n",
       "      <td>B1</td>\n",
       "      <td>C1</td>\n",
       "      <td>D1</td>\n",
       "      <td>X1</td>\n",
       "    </tr>\n",
       "    <tr>\n",
       "      <th>2</th>\n",
       "      <td>A2</td>\n",
       "      <td>B2</td>\n",
       "      <td>C2</td>\n",
       "      <td>D2</td>\n",
       "      <td>X2</td>\n",
       "    </tr>\n",
       "    <tr>\n",
       "      <th>3</th>\n",
       "      <td>A3</td>\n",
       "      <td>B3</td>\n",
       "      <td>C3</td>\n",
       "      <td>D3</td>\n",
       "      <td>X3</td>\n",
       "    </tr>\n",
       "  </tbody>\n",
       "</table>\n",
       "</div>"
      ],
      "text/plain": [
       "    A   B   C   D   X\n",
       "0  A0  B0  C0  D0  X0\n",
       "1  A1  B1  C1  D1  X1\n",
       "2  A2  B2  C2  D2  X2\n",
       "3  A3  B3  C3  D3  X3"
      ]
     },
     "execution_count": 13,
     "metadata": {},
     "output_type": "execute_result"
    }
   ],
   "source": [
    "df1 = pd.DataFrame({\n",
    "    \"A\": [\"A0\", \"A1\", \"A2\", \"A3\"],\n",
    "    \"B\": [\"B0\", \"B1\", \"B2\", \"B3\"],\n",
    "    \"C\": [\"C0\", \"C1\", \"C2\", \"C3\"],\n",
    "    \"D\": [\"D0\", \"D1\", \"D2\", \"D3\"],\n",
    "}, index=[0, 1, 2, 3],)\n",
    "\n",
    "new_col = pd.Series(\n",
    "    [\"X0\", \"X1\", \"X2\", \"X3\"], name=\"X\")\n",
    "pd.concat([df1, new_col], axis=1)\n",
    "\n"
   ]
  },
  {
   "cell_type": "code",
   "execution_count": 19,
   "metadata": {},
   "outputs": [
    {
     "data": {
      "application/vnd.microsoft.datawrangler.viewer.v0+json": {
       "columns": [
        {
         "name": "index",
         "rawType": "int64",
         "type": "integer"
        },
        {
         "name": "A",
         "rawType": "object",
         "type": "string"
        },
        {
         "name": "B",
         "rawType": "object",
         "type": "string"
        },
        {
         "name": "C",
         "rawType": "object",
         "type": "string"
        },
        {
         "name": "D",
         "rawType": "object",
         "type": "string"
        }
       ],
       "conversionMethod": "pd.DataFrame",
       "ref": "38ad3a71-af8a-4fb0-962f-dd51d868f68b",
       "rows": [
        [
         "0",
         "A0",
         "B0",
         "C0",
         "D0"
        ],
        [
         "1",
         "A1",
         "B1",
         "C1",
         "D1"
        ],
        [
         "2",
         "A2",
         "B2",
         "C2",
         "D2"
        ],
        [
         "3",
         "A3",
         "B3",
         "C3",
         "D3"
        ],
        [
         "0",
         "X0",
         "X1",
         "X2",
         "X3"
        ]
       ],
       "shape": {
        "columns": 4,
        "rows": 5
       }
      },
      "text/html": [
       "<div>\n",
       "<style scoped>\n",
       "    .dataframe tbody tr th:only-of-type {\n",
       "        vertical-align: middle;\n",
       "    }\n",
       "\n",
       "    .dataframe tbody tr th {\n",
       "        vertical-align: top;\n",
       "    }\n",
       "\n",
       "    .dataframe thead th {\n",
       "        text-align: right;\n",
       "    }\n",
       "</style>\n",
       "<table border=\"1\" class=\"dataframe\">\n",
       "  <thead>\n",
       "    <tr style=\"text-align: right;\">\n",
       "      <th></th>\n",
       "      <th>A</th>\n",
       "      <th>B</th>\n",
       "      <th>C</th>\n",
       "      <th>D</th>\n",
       "    </tr>\n",
       "  </thead>\n",
       "  <tbody>\n",
       "    <tr>\n",
       "      <th>0</th>\n",
       "      <td>A0</td>\n",
       "      <td>B0</td>\n",
       "      <td>C0</td>\n",
       "      <td>D0</td>\n",
       "    </tr>\n",
       "    <tr>\n",
       "      <th>1</th>\n",
       "      <td>A1</td>\n",
       "      <td>B1</td>\n",
       "      <td>C1</td>\n",
       "      <td>D1</td>\n",
       "    </tr>\n",
       "    <tr>\n",
       "      <th>2</th>\n",
       "      <td>A2</td>\n",
       "      <td>B2</td>\n",
       "      <td>C2</td>\n",
       "      <td>D2</td>\n",
       "    </tr>\n",
       "    <tr>\n",
       "      <th>3</th>\n",
       "      <td>A3</td>\n",
       "      <td>B3</td>\n",
       "      <td>C3</td>\n",
       "      <td>D3</td>\n",
       "    </tr>\n",
       "    <tr>\n",
       "      <th>0</th>\n",
       "      <td>X0</td>\n",
       "      <td>X1</td>\n",
       "      <td>X2</td>\n",
       "      <td>X3</td>\n",
       "    </tr>\n",
       "  </tbody>\n",
       "</table>\n",
       "</div>"
      ],
      "text/plain": [
       "    A   B   C   D\n",
       "0  A0  B0  C0  D0\n",
       "1  A1  B1  C1  D1\n",
       "2  A2  B2  C2  D2\n",
       "3  A3  B3  C3  D3\n",
       "0  X0  X1  X2  X3"
      ]
     },
     "execution_count": 19,
     "metadata": {},
     "output_type": "execute_result"
    }
   ],
   "source": [
    "df1 = pd.DataFrame({\n",
    "    \"A\": [\"A0\", \"A1\", \"A2\", \"A3\"],\n",
    "    \"B\": [\"B0\", \"B1\", \"B2\", \"B3\"],\n",
    "    \"C\": [\"C0\", \"C1\", \"C2\", \"C3\"],\n",
    "    \"D\": [\"D0\", \"D1\", \"D2\", \"D3\"],\n",
    "}, index=[0, 1, 2, 3],)\n",
    "\n",
    "new_col = pd.Series(\n",
    "    [\"X0\", \"X1\", \"X2\", \"X3\"], index=[\"A\",\"B\",\"C\",\"D\"])\n",
    "pd.concat([df1, new_col.to_frame().T])"
   ]
  },
  {
   "cell_type": "code",
   "execution_count": 23,
   "metadata": {},
   "outputs": [
    {
     "data": {
      "application/vnd.microsoft.datawrangler.viewer.v0+json": {
       "columns": [
        {
         "name": "index",
         "rawType": "int64",
         "type": "integer"
        },
        {
         "name": "key1",
         "rawType": "object",
         "type": "string"
        },
        {
         "name": "key2",
         "rawType": "object",
         "type": "string"
        },
        {
         "name": "A",
         "rawType": "object",
         "type": "unknown"
        },
        {
         "name": "B",
         "rawType": "object",
         "type": "unknown"
        },
        {
         "name": "C",
         "rawType": "object",
         "type": "string"
        },
        {
         "name": "D",
         "rawType": "object",
         "type": "string"
        }
       ],
       "conversionMethod": "pd.DataFrame",
       "ref": "40f812cf-df32-492a-bf3f-b4f254288172",
       "rows": [
        [
         "0",
         "K0",
         "K0",
         "A0",
         "B0",
         "C0",
         "D0"
        ],
        [
         "1",
         "K1",
         "K0",
         "A2",
         "B2",
         "C1",
         "D1"
        ],
        [
         "2",
         "K1",
         "K0",
         "A2",
         "B2",
         "C2",
         "D2"
        ],
        [
         "3",
         "K2",
         "K0",
         null,
         null,
         "C3",
         "D3"
        ]
       ],
       "shape": {
        "columns": 6,
        "rows": 4
       }
      },
      "text/html": [
       "<div>\n",
       "<style scoped>\n",
       "    .dataframe tbody tr th:only-of-type {\n",
       "        vertical-align: middle;\n",
       "    }\n",
       "\n",
       "    .dataframe tbody tr th {\n",
       "        vertical-align: top;\n",
       "    }\n",
       "\n",
       "    .dataframe thead th {\n",
       "        text-align: right;\n",
       "    }\n",
       "</style>\n",
       "<table border=\"1\" class=\"dataframe\">\n",
       "  <thead>\n",
       "    <tr style=\"text-align: right;\">\n",
       "      <th></th>\n",
       "      <th>key1</th>\n",
       "      <th>key2</th>\n",
       "      <th>A</th>\n",
       "      <th>B</th>\n",
       "      <th>C</th>\n",
       "      <th>D</th>\n",
       "    </tr>\n",
       "  </thead>\n",
       "  <tbody>\n",
       "    <tr>\n",
       "      <th>0</th>\n",
       "      <td>K0</td>\n",
       "      <td>K0</td>\n",
       "      <td>A0</td>\n",
       "      <td>B0</td>\n",
       "      <td>C0</td>\n",
       "      <td>D0</td>\n",
       "    </tr>\n",
       "    <tr>\n",
       "      <th>1</th>\n",
       "      <td>K1</td>\n",
       "      <td>K0</td>\n",
       "      <td>A2</td>\n",
       "      <td>B2</td>\n",
       "      <td>C1</td>\n",
       "      <td>D1</td>\n",
       "    </tr>\n",
       "    <tr>\n",
       "      <th>2</th>\n",
       "      <td>K1</td>\n",
       "      <td>K0</td>\n",
       "      <td>A2</td>\n",
       "      <td>B2</td>\n",
       "      <td>C2</td>\n",
       "      <td>D2</td>\n",
       "    </tr>\n",
       "    <tr>\n",
       "      <th>3</th>\n",
       "      <td>K2</td>\n",
       "      <td>K0</td>\n",
       "      <td>NaN</td>\n",
       "      <td>NaN</td>\n",
       "      <td>C3</td>\n",
       "      <td>D3</td>\n",
       "    </tr>\n",
       "  </tbody>\n",
       "</table>\n",
       "</div>"
      ],
      "text/plain": [
       "  key1 key2    A    B   C   D\n",
       "0   K0   K0   A0   B0  C0  D0\n",
       "1   K1   K0   A2   B2  C1  D1\n",
       "2   K1   K0   A2   B2  C2  D2\n",
       "3   K2   K0  NaN  NaN  C3  D3"
      ]
     },
     "execution_count": 23,
     "metadata": {},
     "output_type": "execute_result"
    }
   ],
   "source": [
    "left = pd.DataFrame({\n",
    "    \"key1\": [\"K0\", \"K0\", \"K1\", \"K2\"],\n",
    "    \"key2\": [\"K0\", \"K1\", \"K0\", \"K1\"],\n",
    "    \"A\": [\"A0\", \"A1\", \"A2\", \"A3\"],\n",
    "    \"B\": [\"B0\", \"B1\", \"B2\", \"B3\"],\n",
    "})\n",
    "\n",
    "\n",
    "right = pd.DataFrame({\n",
    "    \"key1\": [\"K0\", \"K1\", \"K1\", \"K2\"],\n",
    "    \"key2\": [\"K0\", \"K0\", \"K0\", \"K0\"],\n",
    "    \"C\": [\"C0\", \"C1\", \"C2\", \"C3\"],\n",
    "    \"D\": [\"D0\", \"D1\", \"D2\", \"D3\"],\n",
    "})\n",
    "\n",
    "\n",
    "pd.merge(left, right,how=\"right\",on=[\"key1\", \"key2\"])\n"
   ]
  },
  {
   "cell_type": "code",
   "execution_count": 44,
   "metadata": {},
   "outputs": [
    {
     "name": "stdout",
     "output_type": "stream",
     "text": [
      "小明     人   人物  评价\n",
      "1  小明  蜘蛛侠  72\n",
      "4  小明   超人  57\n",
      "****************************************************************************************************\n",
      "小红     人    人物  评价\n",
      "0  小红  哈利波特  80\n",
      "2  小红    雷神  83\n",
      "3  小红   蜘蛛侠  45\n",
      "****************************************************************************************************\n"
     ]
    },
    {
     "data": {
      "application/vnd.microsoft.datawrangler.viewer.v0+json": {
       "columns": [
        {
         "name": "人",
         "rawType": "object",
         "type": "string"
        },
        {
         "name": "平均分",
         "rawType": "float64",
         "type": "float"
        },
        {
         "name": "最高分",
         "rawType": "int64",
         "type": "integer"
        },
        {
         "name": "最低分",
         "rawType": "int64",
         "type": "integer"
        }
       ],
       "conversionMethod": "pd.DataFrame",
       "ref": "b032e5db-4dcb-491b-b090-edc56b91a63d",
       "rows": [
        [
         "小明",
         "64.5",
         "72",
         "57"
        ],
        [
         "小红",
         "69.33333333333333",
         "83",
         "45"
        ]
       ],
       "shape": {
        "columns": 3,
        "rows": 2
       }
      },
      "text/html": [
       "<div>\n",
       "<style scoped>\n",
       "    .dataframe tbody tr th:only-of-type {\n",
       "        vertical-align: middle;\n",
       "    }\n",
       "\n",
       "    .dataframe tbody tr th {\n",
       "        vertical-align: top;\n",
       "    }\n",
       "\n",
       "    .dataframe thead th {\n",
       "        text-align: right;\n",
       "    }\n",
       "</style>\n",
       "<table border=\"1\" class=\"dataframe\">\n",
       "  <thead>\n",
       "    <tr style=\"text-align: right;\">\n",
       "      <th></th>\n",
       "      <th>平均分</th>\n",
       "      <th>最高分</th>\n",
       "      <th>最低分</th>\n",
       "    </tr>\n",
       "    <tr>\n",
       "      <th>人</th>\n",
       "      <th></th>\n",
       "      <th></th>\n",
       "      <th></th>\n",
       "    </tr>\n",
       "  </thead>\n",
       "  <tbody>\n",
       "    <tr>\n",
       "      <th>小明</th>\n",
       "      <td>64.500000</td>\n",
       "      <td>72</td>\n",
       "      <td>57</td>\n",
       "    </tr>\n",
       "    <tr>\n",
       "      <th>小红</th>\n",
       "      <td>69.333333</td>\n",
       "      <td>83</td>\n",
       "      <td>45</td>\n",
       "    </tr>\n",
       "  </tbody>\n",
       "</table>\n",
       "</div>"
      ],
      "text/plain": [
       "          平均分  最高分  最低分\n",
       "人                      \n",
       "小明  64.500000   72   57\n",
       "小红  69.333333   83   45"
      ]
     },
     "execution_count": 44,
     "metadata": {},
     "output_type": "execute_result"
    }
   ],
   "source": [
    "import pandas as pd\n",
    "\n",
    "df = pd.DataFrame(\n",
    "    [\n",
    "        (\"小红\", \"哈利波特\", 80),\n",
    "        (\"小明\", \"蜘蛛侠\", 72),\n",
    "        (\"小红\", \"雷神\", 83),\n",
    "        (\"小红\", \"蜘蛛侠\", 45),\n",
    "        (\"小明\", \"超人\", 57),\n",
    "    ],\n",
    "    columns=(\"人\", \"人物\", \"评价\"),\n",
    ")\n",
    "df\n",
    "grouped = df.groupby(\"人\")\n",
    "#grouped.groups[\"小红\"]\n",
    "#grouped.get_group(\"小红\")\n",
    "#df.iloc[grouped.groups[\"小红\"]]\n",
    "#df.iloc[[0,2,3]]\n",
    "for name , group in grouped:\n",
    "    print(name, group)\n",
    "    print(\"*\"*100)\n",
    "df.groupby(\"人\")[\"评价\"].agg([\"mean\",\"max\",\"min\"]).rename(columns={\"mean\":\"平均分\",\"max\":\"最高分\",\"min\":\"最低分\"})"
   ]
  },
  {
   "cell_type": "code",
   "execution_count": 48,
   "metadata": {},
   "outputs": [
    {
     "data": {
      "text/plain": [
       "年级   班级\n",
       "one  1     小米\n",
       "     1     小明\n",
       "     2     小命\n",
       "     2     小勉\n",
       "two  1     小牛\n",
       "     1     小鸟\n",
       "     2     小南\n",
       "     2     小妮\n",
       "Name: name, dtype: object"
      ]
     },
     "execution_count": 48,
     "metadata": {},
     "output_type": "execute_result"
    }
   ],
   "source": [
    "\n",
    "iterables = [\n",
    "  [\"one\", \"two\"],  # 年级\n",
    "  [\"1\", \"1\", \"2\", \"2\"]  # 每个学生所在班级\n",
    "]\n",
    "index = pd.MultiIndex.from_product(iterables, names=[\"年级\", \"班级\"])\n",
    "\n",
    "s2 = pd.Series(\n",
    "    [\"小米\", \"小明\",      # 一年一班\n",
    "     \"小命\", \"小勉\",      # 一年二班\n",
    "     \"小牛\", \"小鸟\",      # 二年一班\n",
    "     \"小南\", \"小妮\"       # 二年二班\n",
    "     ], \n",
    "    name=\"name\",\n",
    "    index=index)\n",
    "s2\n"
   ]
  },
  {
   "cell_type": "code",
   "execution_count": 51,
   "metadata": {},
   "outputs": [
    {
     "data": {
      "application/vnd.microsoft.datawrangler.viewer.v0+json": {
       "columns": [
        {
         "name": "('grade', 'class')",
         "rawType": "object",
         "type": "unknown"
        },
        {
         "name": "id",
         "rawType": "int64",
         "type": "integer"
        },
        {
         "name": "name",
         "rawType": "object",
         "type": "string"
        }
       ],
       "conversionMethod": "pd.DataFrame",
       "ref": "226dd48b-bd82-443c-adbb-4086c60a5151",
       "rows": [
        [
         "('one', '1')",
         "11",
         "小米"
        ],
        [
         "('one', '1')",
         "12",
         "小明"
        ],
        [
         "('one', '2')",
         "13",
         "小命"
        ],
        [
         "('one', '2')",
         "14",
         "小勉"
        ],
        [
         "('two', '1')",
         "15",
         "小牛"
        ],
        [
         "('two', '1')",
         "16",
         "小鸟"
        ],
        [
         "('two', '2')",
         "17",
         "小南"
        ],
        [
         "('two', '2')",
         "18",
         "小妮"
        ]
       ],
       "shape": {
        "columns": 2,
        "rows": 8
       }
      },
      "text/html": [
       "<div>\n",
       "<style scoped>\n",
       "    .dataframe tbody tr th:only-of-type {\n",
       "        vertical-align: middle;\n",
       "    }\n",
       "\n",
       "    .dataframe tbody tr th {\n",
       "        vertical-align: top;\n",
       "    }\n",
       "\n",
       "    .dataframe thead th {\n",
       "        text-align: right;\n",
       "    }\n",
       "</style>\n",
       "<table border=\"1\" class=\"dataframe\">\n",
       "  <thead>\n",
       "    <tr style=\"text-align: right;\">\n",
       "      <th></th>\n",
       "      <th></th>\n",
       "      <th>id</th>\n",
       "      <th>name</th>\n",
       "    </tr>\n",
       "    <tr>\n",
       "      <th>grade</th>\n",
       "      <th>class</th>\n",
       "      <th></th>\n",
       "      <th></th>\n",
       "    </tr>\n",
       "  </thead>\n",
       "  <tbody>\n",
       "    <tr>\n",
       "      <th rowspan=\"4\" valign=\"top\">one</th>\n",
       "      <th>1</th>\n",
       "      <td>11</td>\n",
       "      <td>小米</td>\n",
       "    </tr>\n",
       "    <tr>\n",
       "      <th>1</th>\n",
       "      <td>12</td>\n",
       "      <td>小明</td>\n",
       "    </tr>\n",
       "    <tr>\n",
       "      <th>2</th>\n",
       "      <td>13</td>\n",
       "      <td>小命</td>\n",
       "    </tr>\n",
       "    <tr>\n",
       "      <th>2</th>\n",
       "      <td>14</td>\n",
       "      <td>小勉</td>\n",
       "    </tr>\n",
       "    <tr>\n",
       "      <th rowspan=\"4\" valign=\"top\">two</th>\n",
       "      <th>1</th>\n",
       "      <td>15</td>\n",
       "      <td>小牛</td>\n",
       "    </tr>\n",
       "    <tr>\n",
       "      <th>1</th>\n",
       "      <td>16</td>\n",
       "      <td>小鸟</td>\n",
       "    </tr>\n",
       "    <tr>\n",
       "      <th>2</th>\n",
       "      <td>17</td>\n",
       "      <td>小南</td>\n",
       "    </tr>\n",
       "    <tr>\n",
       "      <th>2</th>\n",
       "      <td>18</td>\n",
       "      <td>小妮</td>\n",
       "    </tr>\n",
       "  </tbody>\n",
       "</table>\n",
       "</div>"
      ],
      "text/plain": [
       "             id name\n",
       "grade class         \n",
       "one   1      11   小米\n",
       "      1      12   小明\n",
       "      2      13   小命\n",
       "      2      14   小勉\n",
       "two   1      15   小牛\n",
       "      1      16   小鸟\n",
       "      2      17   小南\n",
       "      2      18   小妮"
      ]
     },
     "execution_count": 51,
     "metadata": {},
     "output_type": "execute_result"
    }
   ],
   "source": [
    "tuples = [\n",
    "  # 年级，班级\n",
    "  (\"one\", \"1\"),\n",
    "  (\"one\", \"1\"),\n",
    "  (\"one\", \"2\"),  (\"one\", \"2\"),\n",
    "  (\"two\", \"1\"),\n",
    "  (\"two\", \"1\"),\n",
    "  (\"two\", \"2\"),\n",
    "  (\"two\", \"2\"),\n",
    "]\n",
    "index = pd.MultiIndex.from_tuples(\n",
    "  tuples, names=[\"grade\", \"class\"])\n",
    "\n",
    "df1 = pd.DataFrame(\n",
    "    {\"id\": [11,12,13,14,15,16,17,18],\n",
    "    \"name\": \n",
    "     [\"小米\", \"小明\",      # 一年一班\n",
    "     \"小命\", \"小勉\",      # 一年二班\n",
    "     \"小牛\", \"小鸟\",      # 二年一班\n",
    "     \"小南\", \"小妮\"       # 二年二班\n",
    "    ]},\n",
    "    index=index)\n",
    "df1\n"
   ]
  },
  {
   "cell_type": "code",
   "execution_count": 57,
   "metadata": {},
   "outputs": [
    {
     "data": {
      "application/vnd.microsoft.datawrangler.viewer.v0+json": {
       "columns": [
        {
         "name": "index",
         "rawType": "object",
         "type": "string"
        },
        {
         "name": "1",
         "rawType": "object",
         "type": "unknown"
        },
        {
         "name": "1",
         "rawType": "object",
         "type": "unknown"
        }
       ],
       "conversionMethod": "pd.DataFrame",
       "ref": "7f5bffaf-9fcd-4736-bcce-828525666209",
       "rows": [
        [
         "id",
         "11",
         "12"
        ],
        [
         "name",
         "小米",
         "小明"
        ]
       ],
       "shape": {
        "columns": 2,
        "rows": 2
       }
      },
      "text/html": [
       "<div>\n",
       "<style scoped>\n",
       "    .dataframe tbody tr th:only-of-type {\n",
       "        vertical-align: middle;\n",
       "    }\n",
       "\n",
       "    .dataframe tbody tr th {\n",
       "        vertical-align: top;\n",
       "    }\n",
       "\n",
       "    .dataframe thead th {\n",
       "        text-align: right;\n",
       "    }\n",
       "</style>\n",
       "<table border=\"1\" class=\"dataframe\">\n",
       "  <thead>\n",
       "    <tr style=\"text-align: right;\">\n",
       "      <th>class</th>\n",
       "      <th>1</th>\n",
       "      <th>1</th>\n",
       "    </tr>\n",
       "  </thead>\n",
       "  <tbody>\n",
       "    <tr>\n",
       "      <th>id</th>\n",
       "      <td>11</td>\n",
       "      <td>12</td>\n",
       "    </tr>\n",
       "    <tr>\n",
       "      <th>name</th>\n",
       "      <td>小米</td>\n",
       "      <td>小明</td>\n",
       "    </tr>\n",
       "  </tbody>\n",
       "</table>\n",
       "</div>"
      ],
      "text/plain": [
       "class   1   1\n",
       "id     11  12\n",
       "name   小米  小明"
      ]
     },
     "execution_count": 57,
     "metadata": {},
     "output_type": "execute_result"
    }
   ],
   "source": [
    "df2 = pd.DataFrame(\n",
    "    [[11,12,13,14,15,16,17,18],\n",
    "     [\"小米\", \"小明\",      # 一年一班\n",
    "     \"小命\", \"小勉\",      # 一年二班\n",
    "     \"小牛\", \"小鸟\",      # 二年一班\n",
    "     \"小南\", \"小妮\"       # 二年二班\n",
    "    ]],\n",
    "    index=[\"id\", \"name\"],\n",
    "    columns=index,  # 多索引加这\n",
    ")\n",
    "df2[\"one\"][\"1\"]\n",
    "\n"
   ]
  },
  {
   "cell_type": "code",
   "execution_count": 61,
   "metadata": {},
   "outputs": [
    {
     "data": {
      "application/vnd.microsoft.datawrangler.viewer.v0+json": {
       "columns": [
        {
         "name": "class",
         "rawType": "object",
         "type": "string"
        },
        {
         "name": "id",
         "rawType": "int64",
         "type": "integer"
        },
        {
         "name": "name",
         "rawType": "object",
         "type": "string"
        }
       ],
       "conversionMethod": "pd.DataFrame",
       "ref": "5f831781-6a9c-4068-9f9c-be6a6a2dc419",
       "rows": [
        [
         "1",
         "11",
         "小米"
        ],
        [
         "1",
         "12",
         "小明"
        ]
       ],
       "shape": {
        "columns": 2,
        "rows": 2
       }
      },
      "text/html": [
       "<div>\n",
       "<style scoped>\n",
       "    .dataframe tbody tr th:only-of-type {\n",
       "        vertical-align: middle;\n",
       "    }\n",
       "\n",
       "    .dataframe tbody tr th {\n",
       "        vertical-align: top;\n",
       "    }\n",
       "\n",
       "    .dataframe thead th {\n",
       "        text-align: right;\n",
       "    }\n",
       "</style>\n",
       "<table border=\"1\" class=\"dataframe\">\n",
       "  <thead>\n",
       "    <tr style=\"text-align: right;\">\n",
       "      <th></th>\n",
       "      <th>id</th>\n",
       "      <th>name</th>\n",
       "    </tr>\n",
       "    <tr>\n",
       "      <th>class</th>\n",
       "      <th></th>\n",
       "      <th></th>\n",
       "    </tr>\n",
       "  </thead>\n",
       "  <tbody>\n",
       "    <tr>\n",
       "      <th>1</th>\n",
       "      <td>11</td>\n",
       "      <td>小米</td>\n",
       "    </tr>\n",
       "    <tr>\n",
       "      <th>1</th>\n",
       "      <td>12</td>\n",
       "      <td>小明</td>\n",
       "    </tr>\n",
       "  </tbody>\n",
       "</table>\n",
       "</div>"
      ],
      "text/plain": [
       "       id name\n",
       "class         \n",
       "1      11   小米\n",
       "1      12   小明"
      ]
     },
     "execution_count": 61,
     "metadata": {},
     "output_type": "execute_result"
    }
   ],
   "source": [
    "df4 = pd.DataFrame(\n",
    "    {\"id\": [11,12,13,14,15,16,17,18],\n",
    "    \"name\": \n",
    "     [\"小米\", \"小明\",      # 一年一班\n",
    "     \"小命\", \"小勉\",      # 一年二班\n",
    "     \"小牛\", \"小鸟\",      # 二年一班\n",
    "     \"小南\", \"小妮\"       # 二年二班\n",
    "    ]},\n",
    "    index=index)\n",
    "df4.loc[\"one\"].loc[\"1\"]\n"
   ]
  }
 ],
 "metadata": {
  "kernelspec": {
   "display_name": "Python 3",
   "language": "python",
   "name": "python3"
  },
  "language_info": {
   "codemirror_mode": {
    "name": "ipython",
    "version": 3
   },
   "file_extension": ".py",
   "mimetype": "text/x-python",
   "name": "python",
   "nbconvert_exporter": "python",
   "pygments_lexer": "ipython3",
   "version": "3.13.1"
  }
 },
 "nbformat": 4,
 "nbformat_minor": 2
}
